{
 "cells": [
  {
   "cell_type": "markdown",
   "metadata": {},
   "source": [
    "# Exercise Set 1\n",
    "<h2> IN4080 - 2024 </h2>\n",
    "\n",
    "*You will probably not manage to work through all of this exercise set during the group session. Continue\n",
    "to work on it by yourself after the group session and return to the teacher in later group sessions if you\n",
    "have any questions.*\n",
    "\n",
    "\n",
    "This exercises requires the following packages:\n",
    "* Spacy \n",
    "* Numpy \n",
    "* Pandas\n",
    "* Matplotlib"
   ]
  },
  {
   "cell_type": "markdown",
   "metadata": {},
   "source": [
    "## Part 0: Get help to set up a working environment on your PC\n",
    "\n",
    "Follow the installation instructions on the course web page to set up a working environment on your\n",
    "own computer. Alternatively, you can also work on the IFI cluster, where everything should be ready.\n",
    "The following exercises should be solved interactively in Python. We recommend using a Jupyter\n",
    "Notebook, but you can also work in a standard interactive Python prompt."
   ]
  },
  {
   "cell_type": "markdown",
   "metadata": {},
   "source": [
    "## Part 1: Precpocessing Data with SpaCy\n",
    "\n",
    "We will work with the book *Peter Pan*, which is available as plain text on Project Gutenberg. "
   ]
  },
  {
   "cell_type": "markdown",
   "metadata": {},
   "source": [
    "\n",
    "a) Download the Plain Text UTF-8 file from https://www.gutenberg.org/ebooks/16 and place it in your working\n",
    "directory. Rename the file if necessary. Open the file in a text editor. Are there any particularities in the document \n",
    "that you’ll need to watch out when processing?\n"
   ]
  },
  {
   "cell_type": "markdown",
   "metadata": {},
   "source": [
    "**Answer**\n",
    "\n",
    "There is a Gutenberg Project header (and footer), that are not a part of the original text."
   ]
  },
  {
   "cell_type": "markdown",
   "metadata": {},
   "source": [
    "\n",
    "b) This is a Jupyter notebook which is organized into cells. There are essentially two types of cells: text (Markdown)\n",
    "cells and code cells. You can execute a code cell by clicking on the Play button or by pressing Ctrl+Enter.\n",
    "Create a code cell below, load in the Peter Pan text, and print the length of the text. What does this number tell you?\n",
    "\n",
    "<details>\n",
    "  <summary>Code Solution</summary>\n",
    "\n",
    "```python\n",
    "with open(‘peterpan.txt’, ‘r’, encoding=’utf-8-sig’) as f:\n",
    "  text = f.read()\n",
    "  print(len(text))\n",
    "```\n",
    "</details> "
   ]
  },
  {
   "cell_type": "code",
   "execution_count": 3,
   "metadata": {},
   "outputs": [
    {
     "name": "stdout",
     "output_type": "stream",
     "text": [
      "274155\n"
     ]
    }
   ],
   "source": [
    "filepath = '/home/vlhandfo/in4080/gl/seminar1/peter-pan.txt'\n",
    "with open(filepath, 'r', encoding='utf-8-sig') as f:\n",
    "\traw_text = f.read()\n",
    "\tprint(len(raw_text))"
   ]
  },
  {
   "cell_type": "markdown",
   "metadata": {},
   "source": [
    "**Answer**\n",
    "\n",
    "The result shows the number of characters in the text file. "
   ]
  },
  {
   "cell_type": "markdown",
   "metadata": {},
   "source": [
    "c) We would now like preprocess the raw text. The NLP pipeline from `SpaCy` does a lot of the heavy lifting for us.\n",
    "Run the text through the SpaCy pipeline and print out the number of sentences in the resulting `Doc` object.\n",
    "Does the number of sentences correspond to your expectations? Inspect the data.\n",
    "\n",
    "[SpaCy Usage Documentation](https://spacy.io/usage)"
   ]
  },
  {
   "cell_type": "markdown",
   "metadata": {},
   "source": [
    "Installation:\n",
    "```bash\n",
    "pip install -U pip setuptools wheel\n",
    "pip install -U spacy\n",
    "python -m spacy download en_core_web_sm\n",
    "```"
   ]
  },
  {
   "cell_type": "code",
   "execution_count": 1,
   "metadata": {},
   "outputs": [],
   "source": [
    "import spacy"
   ]
  },
  {
   "cell_type": "code",
   "execution_count": 4,
   "metadata": {},
   "outputs": [],
   "source": [
    "nlp = spacy.load(\"en_core_web_sm\")\n",
    "doc = nlp(raw_text)\n",
    "assert doc.has_annotation(\"SENT_START\")"
   ]
  },
  {
   "cell_type": "code",
   "execution_count": 5,
   "metadata": {},
   "outputs": [
    {
     "name": "stdout",
     "output_type": "stream",
     "text": [
      "Number of Sentences: 3016\n"
     ]
    }
   ],
   "source": [
    "print(\"Number of Sentences:\", len([*doc.sents]))"
   ]
  },
  {
   "cell_type": "code",
   "execution_count": 27,
   "metadata": {},
   "outputs": [
    {
     "name": "stdout",
     "output_type": "stream",
     "text": [
      "Mrs. Darling left the room to\n",
      "get a chocolate for him, and Mr. Darling thought this showed want of\n",
      "firmness.\n",
      "\n",
      "\n",
      "===\n",
      "“Mother, don’t pamper him,” he called after her.\n",
      "===\n",
      "“Michael, when I was\n",
      "your age I took medicine without a murmur.\n",
      "===\n",
      "I said, ‘Thank you, kind\n",
      "parents, for giving me bottles to make me well.’”\n",
      "\n",
      "He really thought this was true, and Wendy, who was now in her\n",
      "night-gown, believed it also, and she said, to encourage Michael, “That\n",
      "medicine you sometimes take, father, is much nastier, isn’t it?”\n",
      "\n",
      "“Ever so much nastier,” Mr. Darling said bravely, “and I would take it\n",
      "now as an example to you, Michael, if I hadn’t lost the bottle.”\n",
      "\n",
      "\n",
      "===\n",
      "He had not exactly lost it; he had climbed in the dead of night to the\n",
      "top of the wardrobe and hidden it there.\n"
     ]
    }
   ],
   "source": [
    "# Look at the first 5 sentences in the document\n",
    "print(*[*doc.sents][250:255], sep=\"\\n===\\n\")"
   ]
  },
  {
   "cell_type": "markdown",
   "metadata": {},
   "source": [
    "d) It turns out that the initial text contains a lot of line breaks that make the processing harder than\n",
    "necessary. Replace all line breaks in the raw text with a space.  \n",
    "\n",
    "*Hint* use regular expressions and the `re` library.\n",
    "\n",
    "If you are not familiar with regular expressions, let your teachers know. We won’t need them now, but they \n",
    "can come quite handy for a lot of text processing tasks, so it’s worth investing some time in learning the basics…"
   ]
  },
  {
   "cell_type": "code",
   "execution_count": 17,
   "metadata": {},
   "outputs": [],
   "source": [
    "import re\n",
    "\n",
    "text_without_line_breaks = re.sub(r'\\n+', ' ', raw_text)"
   ]
  },
  {
   "cell_type": "markdown",
   "metadata": {},
   "source": [
    "e) Run the new text through the sentence tokenizer again. How do you judge the result? Have new errors been introduced?"
   ]
  },
  {
   "cell_type": "code",
   "execution_count": 18,
   "metadata": {},
   "outputs": [],
   "source": [
    "nlp2 = spacy.load(\"en_core_web_sm\")\n",
    "doc2 = nlp(text_without_line_breaks)\n",
    "assert doc2.has_annotation(\"SENT_START\")"
   ]
  },
  {
   "cell_type": "code",
   "execution_count": 19,
   "metadata": {},
   "outputs": [
    {
     "name": "stdout",
     "output_type": "stream",
     "text": [
      "Number of Sentences: 3315\n"
     ]
    }
   ],
   "source": [
    "print(\"Number of Sentences:\", len([*doc2.sents]))"
   ]
  },
  {
   "cell_type": "code",
   "execution_count": 26,
   "metadata": {},
   "outputs": [
    {
     "name": "stdout",
     "output_type": "stream",
     "text": [
      "Of course Mrs. Darling brushed him, but he began to talk again about its being a mistake to have a dog for a nurse.\n",
      "===\n",
      "“George, Nana is a treasure.”\n",
      "===\n",
      "“No doubt, but I have an uneasy feeling at times that she looks upon the children as puppies.”\n",
      "===\n",
      "“Oh no, dear one, I feel sure she knows they have souls.”\n",
      "===\n",
      "“I wonder,” Mr. Darling said thoughtfully, “I wonder.”\n"
     ]
    }
   ],
   "source": [
    "print(*[*doc2.sents][250:255], sep=\"\\n===\\n\")"
   ]
  },
  {
   "cell_type": "markdown",
   "metadata": {},
   "source": [
    "## Part 2: Frequency distributions and Pandas\n",
    "\n",
    "In this exercise set, we want to study the frequency distributions of words in the text.\n",
    "Python provides a Counter class that counts repeated elements in a list and stores the counts as a\n",
    "dictionary. We can set up the counter, get the most common elements, and the count for a specific element as follows:\n",
    "\n",
    "```python\n",
    "import collections\n",
    "\n",
    "c = collections.Counter(tokens)\n",
    "print(c.most_common(10))\n",
    "print(c['with'])\n",
    "```"
   ]
  },
  {
   "cell_type": "markdown",
   "metadata": {},
   "source": [
    "a) Print out the 10 most frequent tokens in the text.\n"
   ]
  },
  {
   "cell_type": "code",
   "execution_count": 43,
   "metadata": {},
   "outputs": [
    {
     "name": "stdout",
     "output_type": "stream",
     "text": [
      "Most Common:\n",
      "(',', 3976)\n",
      "('.', 2789)\n",
      "('the', 2324)\n",
      "('”', 1463)\n",
      "('“', 1462)\n",
      "('and', 1421)\n",
      "('to', 1242)\n",
      "('a', 960)\n",
      "('was', 932)\n",
      "('of', 919)\n"
     ]
    }
   ],
   "source": [
    "from collections import Counter\n",
    "\n",
    "tokens = [token.text for token in doc2]\n",
    "\n",
    "c = Counter(tokens)\n",
    "\n",
    "print(\"Most Common:\")\n",
    "print(*c.most_common(10), sep=\"\\n\")"
   ]
  },
  {
   "cell_type": "markdown",
   "metadata": {},
   "source": [
    "b) You will see that punctuation marks are among the most frequent items in the result. Remove them from the counter.\n",
    "\n",
    "<details>\n",
    "<summary> Hints </summary>\n",
    "\t<ul>\n",
    "\t\t<li> <code>string.punctuation</code> contains a list of punctuation symbols (you’ll need to import string first)</li>\n",
    "\t\t<li>You can delete the 'and' item from the counter with <code>del c[‘and’]</code>.</li>\n",
    "\t</ul>\n",
    "</details>\n"
   ]
  },
  {
   "cell_type": "code",
   "execution_count": 48,
   "metadata": {},
   "outputs": [
    {
     "name": "stdout",
     "output_type": "stream",
     "text": [
      "Most Common:\n",
      "('the', 2324)\n",
      "('and', 1421)\n",
      "('to', 1242)\n",
      "('a', 960)\n",
      "('was', 932)\n",
      "('of', 919)\n",
      "('he', 879)\n",
      "('in', 697)\n",
      "('it', 662)\n",
      "('that', 609)\n"
     ]
    }
   ],
   "source": [
    "from string import punctuation\n",
    "\n",
    "for punct in punctuation:\n",
    "    del c[punct]\n",
    "\n",
    "print(\"Most Common:\")\n",
    "print(*c.most_common(10), sep=\"\\n\")"
   ]
  },
  {
   "cell_type": "markdown",
   "metadata": {},
   "source": [
    "**NOTE** Not all punctuation marks were removed! The list of punctuation doesn't include every symbol."
   ]
  },
  {
   "cell_type": "code",
   "execution_count": 49,
   "metadata": {},
   "outputs": [
    {
     "name": "stdout",
     "output_type": "stream",
     "text": [
      "!\"#$%&'()*+,-./:;<=>?@[\\]^_`{|}~\n"
     ]
    }
   ],
   "source": [
    "print(punctuation)"
   ]
  },
  {
   "cell_type": "code",
   "execution_count": 50,
   "metadata": {},
   "outputs": [
    {
     "name": "stdout",
     "output_type": "stream",
     "text": [
      "Most Common:\n",
      "('the', 2324)\n",
      "('and', 1421)\n",
      "('to', 1242)\n",
      "('a', 960)\n",
      "('was', 932)\n",
      "('of', 919)\n",
      "('he', 879)\n",
      "('in', 697)\n",
      "('it', 662)\n",
      "('that', 609)\n"
     ]
    }
   ],
   "source": [
    "del c[\"“\"]\n",
    "del c[\"”\"]\n",
    "\n",
    "print(\"Most Common:\")\n",
    "print(*c.most_common(10), sep=\"\\n\")"
   ]
  },
  {
   "cell_type": "markdown",
   "metadata": {},
   "source": [
    "c) It would be nice if we could display the frequency distribution as a nicely formatted table. Let us use a\n",
    "DataFrame from the Pandas package for this. In general, it is easy to populate a DataFrame with the\n",
    "contents of a Python dictionary, as in the following code snippet:\n",
    "\n",
    "```python\n",
    "import pandas as pd\n",
    "\n",
    "d = {‘apple’: 5, ‘orange’: 8, ‘banana’: 51, ‘strawberry’: 20}\n",
    "df = pd.DataFrame(d.items(), columns=['fruit', 'number'])\n",
    "\n",
    "df.head()    # Display the first rows\n",
    "```\n",
    "\n",
    "You can do the same with your word counter.  \n",
    "\n",
    "How many types and how many tokens does the text contain? What is its type-token-ratio?\n"
   ]
  },
  {
   "cell_type": "code",
   "execution_count": 64,
   "metadata": {},
   "outputs": [
    {
     "data": {
      "text/html": [
       "<div>\n",
       "<style scoped>\n",
       "    .dataframe tbody tr th:only-of-type {\n",
       "        vertical-align: middle;\n",
       "    }\n",
       "\n",
       "    .dataframe tbody tr th {\n",
       "        vertical-align: top;\n",
       "    }\n",
       "\n",
       "    .dataframe thead th {\n",
       "        text-align: right;\n",
       "    }\n",
       "</style>\n",
       "<table border=\"1\" class=\"dataframe\">\n",
       "  <thead>\n",
       "    <tr style=\"text-align: right;\">\n",
       "      <th></th>\n",
       "      <th>Word</th>\n",
       "      <th>Count</th>\n",
       "    </tr>\n",
       "  </thead>\n",
       "  <tbody>\n",
       "    <tr>\n",
       "      <th>29</th>\n",
       "      <td>the</td>\n",
       "      <td>2324</td>\n",
       "    </tr>\n",
       "    <tr>\n",
       "      <th>123</th>\n",
       "      <td>and</td>\n",
       "      <td>1421</td>\n",
       "    </tr>\n",
       "    <tr>\n",
       "      <th>142</th>\n",
       "      <td>to</td>\n",
       "      <td>1242</td>\n",
       "    </tr>\n",
       "    <tr>\n",
       "      <th>23</th>\n",
       "      <td>a</td>\n",
       "      <td>960</td>\n",
       "    </tr>\n",
       "    <tr>\n",
       "      <th>25</th>\n",
       "      <td>was</td>\n",
       "      <td>932</td>\n",
       "    </tr>\n",
       "  </tbody>\n",
       "</table>\n",
       "</div>"
      ],
      "text/plain": [
       "    Word  Count\n",
       "29   the   2324\n",
       "123  and   1421\n",
       "142   to   1242\n",
       "23     a    960\n",
       "25   was    932"
      ]
     },
     "metadata": {},
     "output_type": "display_data"
    }
   ],
   "source": [
    "import pandas as pd\n",
    "\n",
    "df = pd.DataFrame(c.items(), columns=[\"Word\", \"Count\"]).sort_values(\"Count\", ascending=False)\n",
    "display(df.head())\n"
   ]
  },
  {
   "cell_type": "code",
   "execution_count": 62,
   "metadata": {},
   "outputs": [
    {
     "name": "stdout",
     "output_type": "stream",
     "text": [
      "Number of tokens: 62328\n",
      "Number of tokens: 62328\n",
      "\n",
      "Number of types: 5749\n",
      "Number of types: 6411\n",
      "\n",
      "Type-token ration: 0.09223783853163907\n"
     ]
    }
   ],
   "source": [
    "print(\"Number of tokens:\", len(tokens))\n",
    "# OR\n",
    "print(\"Number of tokens:\", len(doc2))\n",
    "\n",
    "print()\n",
    "\n",
    "print(\"Number of types:\", len(df))\n",
    "# OR\n",
    "print(\"Number of types:\", len(doc2.vocab)) # Note that this is a different number. Why?\n",
    "\n",
    "\n",
    "print()\n",
    "\n",
    "n_tokens = len(tokens)\n",
    "n_types = len(df)\n",
    "\n",
    "TTR = n_types / n_tokens\n",
    "print(\"Type-token ration:\", TTR)"
   ]
  },
  {
   "cell_type": "markdown",
   "metadata": {},
   "source": [
    "d) With Pandas, you can easily select rows of a dataframe according to a particular criterion. For example,\n",
    "this command displays all words that occur ten times or more:\n",
    "\n",
    "```python\n",
    "df[df[‘count’] >= 10]\n",
    "```\n",
    "\n",
    "How many hapaxes are in the dataset? What percentage of all word types are hapaxes?\n",
    "How many word types start with upper case A?"
   ]
  },
  {
   "cell_type": "code",
   "execution_count": 66,
   "metadata": {},
   "outputs": [
    {
     "name": "stdout",
     "output_type": "stream",
     "text": [
      "Number of hapaxes: 2852\n",
      "Count of words that are hapax: 0.4961\n"
     ]
    }
   ],
   "source": [
    "n_hapax = len(df[df[\"Count\"] == 1])\n",
    "print(\"Number of hapaxes:\", n_hapax)\n",
    "\n",
    "print(f\"Percentage of types that are hapax: {n_hapax / len(df):.4f}\")\n"
   ]
  },
  {
   "cell_type": "code",
   "execution_count": 67,
   "metadata": {},
   "outputs": [
    {
     "name": "stdout",
     "output_type": "stream",
     "text": [
      "Number of word types that start with 'A': 49\n"
     ]
    }
   ],
   "source": [
    "\n",
    "startswith_A = df[df[\"Word\"].apply(\n",
    "    \t\t\tlambda x : True if x.startswith(\"A\") else False\n",
    "      \t\t)]\n",
    "print(f\"Number of word types that start with 'A': {len(startswith_A)}\")\n"
   ]
  },
  {
   "cell_type": "markdown",
   "metadata": {},
   "source": [
    "## Part 3: Plotting with Matplotlib\n",
    "\n",
    "Matplotlib is a package for making plots and figures in Python. When using Jupyter notebooks, the plots\n",
    "are directly displayed in the notebook. This code snippet generates a simple plot:\n",
    "\n",
    "```python \n",
    "import numpy as np\n",
    "import matplotlib.pyplot as plt\n",
    "\n",
    "numbers = np.arange(10)\n",
    "print(numbers)\n",
    "plt.plot(numbers)\n",
    "```"
   ]
  },
  {
   "cell_type": "markdown",
   "metadata": {},
   "source": [
    "a) Let us create a plot from our frequency distribution. You can directly use the `plot()` method of the\n",
    "dataframe as follows:\n",
    "\n",
    "```python\n",
    "df = df.sort_values('count', ascending=False)\n",
    "df.plot(x='word', y='count')\n",
    "```\n",
    "\n",
    "Does the result of this plot correspond to your expectations? "
   ]
  },
  {
   "cell_type": "code",
   "execution_count": 70,
   "metadata": {},
   "outputs": [
    {
     "data": {
      "image/png": "[encoded data removed]",
      "text/plain": [
       "<Figure size 640x480 with 1 Axes>"
      ]
     },
     "metadata": {},
     "output_type": "display_data"
    }
   ],
   "source": [
    "import numpy as np\n",
    "import matplotlib.pyplot as plt\n",
    "\n",
    "df = df.sort_values('Count', ascending=False)\n",
    "df.plot(x='Word', y='Count')\n",
    "\n",
    "plt.show()"
   ]
  },
  {
   "cell_type": "markdown",
   "metadata": {},
   "source": [
    "b) Let's make some more visualizations. \n",
    "\n",
    "* Modify the command to only display the 20 most frequent words. \n",
    "* Try to display all words on the x-axis.\n",
    "* For frequency plots, it is more natural to use bar charts. Switch the type of the plot with the `kind='bar'` parameter."
   ]
  },
  {
   "cell_type": "code",
   "execution_count": 84,
   "metadata": {},
   "outputs": [
    {
     "data": {
      "image/png": "[encoded data removed]",
      "text/plain": [
       "<Figure size 800x600 with 1 Axes>"
      ]
     },
     "metadata": {},
     "output_type": "display_data"
    }
   ],
   "source": [
    "X = 20\n",
    "df.iloc[:X].plot(x=\"Word\", y=\"Count\", figsize=(8,6))\n",
    "words = list(df.iloc[:X][\"Word\"])\n",
    "plt.title(f\"{X} Most Frequent Word Types\")\n",
    "plt.xticks(np.arange(X), words)\n",
    "plt.show()"
   ]
  },
  {
   "cell_type": "code",
   "execution_count": 86,
   "metadata": {},
   "outputs": [
    {
     "data": {
      "image/png": "[encoded data removed]",
      "text/plain": [
       "<Figure size 640x480 with 1 Axes>"
      ]
     },
     "metadata": {},
     "output_type": "display_data"
    }
   ],
   "source": [
    "df.iloc[:X].plot(x=\"Word\", y=\"Count\", \n",
    "                 kind=\"bar\")\n",
    "words = list(df.iloc[:X][\"Word\"])\n",
    "plt.title(f\"{X} Most Frequent Word Types\")\n",
    "plt.show()"
   ]
  },
  {
   "cell_type": "markdown",
   "metadata": {},
   "source": [
    "c) Zipf’s law states that the product of the frequency of a word and of its rank is approximately constant.\n",
    "Let us verify this law on a subset of our frequency distribution. Select the 2000 first words of the\n",
    "sorted frequency table. Reset the indices in the resulting dataframe so that we can use each index for the rank. Now, add a new column with the product of rank and frequency.\n",
    "\n",
    "<details>\n",
    "<summary>Hints</summary>\n",
    "\n",
    "```python\n",
    "\tdf_zipf = df[:2000].reset_index(drop=True) \n",
    "\tdf_zipf['z'] = df_zipf.index.values * df_zipf['Count']\n",
    "```\n",
    "</details>\n",
    "\n",
    "What are the highest, lowest and average values of z that you observe? Plot the z values as a line chart."
   ]
  },
  {
   "cell_type": "code",
   "execution_count": 103,
   "metadata": {},
   "outputs": [
    {
     "name": "stdout",
     "output_type": "stream",
     "text": [
      "count    2000.000000\n",
      "mean     5560.412000\n",
      "std      1014.157484\n",
      "min      2324.000000\n",
      "25%      4919.250000\n",
      "50%      5384.500000\n",
      "75%      6010.500000\n",
      "max      9152.000000\n",
      "Name: Zipf, dtype: float64\n"
     ]
    }
   ],
   "source": [
    "df_zipf = df[:2000].reset_index(drop=True)\n",
    "df_zipf[\"Zipf\"] = (df_zipf.index.values + 1) * df_zipf[\"Count\"]\n",
    "\n",
    "print(df_zipf.describe()[\"Zipf\"])"
   ]
  },
  {
   "cell_type": "code",
   "execution_count": 104,
   "metadata": {},
   "outputs": [
    {
     "data": {
      "image/png": "[encoded data removed]",
      "text/plain": [
       "<Figure size 800x600 with 1 Axes>"
      ]
     },
     "metadata": {},
     "output_type": "display_data"
    }
   ],
   "source": [
    "df_zipf.plot(x=\"Word\", y=\"Zipf\", figsize=(8,6))\n",
    "display()"
   ]
  }
 ],
 "metadata": {
  "kernelspec": {
   "display_name": ".venv",
   "language": "python",
   "name": "python3"
  },
  "language_info": {
   "codemirror_mode": {
    "name": "ipython",
    "version": 3
   },
   "file_extension": ".py",
   "mimetype": "text/x-python",
   "name": "python",
   "nbconvert_exporter": "python",
   "pygments_lexer": "ipython3",
   "version": "3.10.12"
  }
 },
 "nbformat": 4,
 "nbformat_minor": 2
}
